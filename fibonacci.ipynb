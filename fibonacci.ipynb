{
 "cells": [
  {
   "cell_type": "code",
   "execution_count": 1,
   "id": "da328f1d",
   "metadata": {},
   "outputs": [
    {
     "name": "stdout",
     "output_type": "stream",
     "text": [
      "Enter a number to generate the Fibonacci sequence up to that number: 7\n",
      "Fibonacci sequence up to 7: [0, 1, 1, 2, 3, 5]\n"
     ]
    }
   ],
   "source": [
    "def generate_fibonacci(n):\n",
    "    a, b = 0, 1\n",
    "    fibonacci_sequence = [a]\n",
    "\n",
    "    while b <= n:\n",
    "        fibonacci_sequence.append(b)\n",
    "        a, b = b, a + b\n",
    "\n",
    "    return fibonacci_sequence\n",
    "\n",
    "# Get input from the user\n",
    "user_input = int(input(\"Enter a number to generate the Fibonacci sequence up to that number: \"))\n",
    "\n",
    "# Generate and print the Fibonacci sequence\n",
    "fibonacci_sequence = generate_fibonacci(user_input)\n",
    "print(f\"Fibonacci sequence up to {user_input}: {fibonacci_sequence}\")"
   ]
  },
  {
   "cell_type": "code",
   "execution_count": null,
   "id": "01d8cbc8",
   "metadata": {},
   "outputs": [],
   "source": []
  }
 ],
 "metadata": {
  "kernelspec": {
   "display_name": "Python 3 (ipykernel)",
   "language": "python",
   "name": "python3"
  },
  "language_info": {
   "codemirror_mode": {
    "name": "ipython",
    "version": 3
   },
   "file_extension": ".py",
   "mimetype": "text/x-python",
   "name": "python",
   "nbconvert_exporter": "python",
   "pygments_lexer": "ipython3",
   "version": "3.11.5"
  }
 },
 "nbformat": 4,
 "nbformat_minor": 5
}
