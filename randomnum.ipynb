{
 "cells": [
  {
   "cell_type": "code",
   "execution_count": 6,
   "id": "19a7fbee",
   "metadata": {},
   "outputs": [
    {
     "name": "stdout",
     "output_type": "stream",
     "text": [
      "Welcome to the Number Guessing Game!\n",
      "I have selected a random number between 1 and 100. Try to guess it!\n",
      "Enter your guess: 3\n",
      "Too low! Try a higher number.\n",
      "Enter your guess: 5\n",
      "Too low! Try a higher number.\n",
      "Enter your guess: 10\n",
      "Too low! Try a higher number.\n",
      "Enter your guess: 100\n",
      "Too high! Try a lower number.\n",
      "Enter your guess: 50\n",
      "Too high! Try a lower number.\n",
      "Enter your guess: 40\n",
      "Too high! Try a lower number.\n",
      "Enter your guess: 20\n",
      "Congratulations! You guessed the correct number 20 in 7 attempts.\n"
     ]
    }
   ],
   "source": [
    "import random\n",
    "\n",
    "def number_guessing_game():\n",
    "    secret_number = random.randint(1, 100)\n",
    "    attempts = 0\n",
    "\n",
    "    print(\"Welcome to the Number Guessing Game!\")\n",
    "    print(\"I have selected a random number between 1 and 100. Try to guess it!\")\n",
    "\n",
    "    while True:\n",
    "        user_guess = int(input(\"Enter your guess: \"))\n",
    "        attempts += 1\n",
    "\n",
    "        if user_guess == secret_number:\n",
    "            print(f\"Congratulations! You guessed the correct number {secret_number} in {attempts} attempts.\")\n",
    "            break\n",
    "        elif user_guess < secret_number:\n",
    "            print(\"Too low! Try a higher number.\")\n",
    "        else:\n",
    "            print(\"Too high! Try a lower number.\")\n",
    "\n",
    "# Start the game\n",
    "number_guessing_game()"
   ]
  },
  {
   "cell_type": "code",
   "execution_count": 5,
   "id": "16a991a8",
   "metadata": {},
   "outputs": [
    {
     "data": {
      "text/plain": [
       "4"
      ]
     },
     "execution_count": 5,
     "metadata": {},
     "output_type": "execute_result"
    }
   ],
   "source": [
    "5\n",
    "4\n"
   ]
  },
  {
   "cell_type": "code",
   "execution_count": null,
   "id": "d41aab8e",
   "metadata": {},
   "outputs": [],
   "source": []
  },
  {
   "cell_type": "code",
   "execution_count": null,
   "id": "8d889881",
   "metadata": {},
   "outputs": [],
   "source": []
  }
 ],
 "metadata": {
  "kernelspec": {
   "display_name": "Python 3 (ipykernel)",
   "language": "python",
   "name": "python3"
  },
  "language_info": {
   "codemirror_mode": {
    "name": "ipython",
    "version": 3
   },
   "file_extension": ".py",
   "mimetype": "text/x-python",
   "name": "python",
   "nbconvert_exporter": "python",
   "pygments_lexer": "ipython3",
   "version": "3.11.5"
  }
 },
 "nbformat": 4,
 "nbformat_minor": 5
}
